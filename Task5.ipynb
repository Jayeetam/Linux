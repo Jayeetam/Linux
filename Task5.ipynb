{
 "cells": [
  {
   "cell_type": "markdown",
   "metadata": {},
   "source": [
    "### 1.How to jump to a particular line in a file using vim editor?"
   ]
  },
  {
   "cell_type": "raw",
   "metadata": {},
   "source": [
    "$ vim +<line number> <filename>"
   ]
  },
  {
   "cell_type": "markdown",
   "metadata": {},
   "source": [
    "### 2.How do you sort the entries in a text file in ascending order?\n"
   ]
  },
  {
   "cell_type": "raw",
   "metadata": {},
   "source": [
    "This can be done using the sort command.\n",
    "\n",
    "$ sort sample.txt"
   ]
  },
  {
   "cell_type": "markdown",
   "metadata": {},
   "source": [
    "### 3.What is the export command used for?\n"
   ]
  },
  {
   "cell_type": "raw",
   "metadata": {},
   "source": [
    "The export command is used to set and reload the environment variables. For example, if you want to set the Java path, then the command would be:\n",
    "\n",
    "$ export JAVA_HOME = /home/user/Java/bin"
   ]
  },
  {
   "cell_type": "markdown",
   "metadata": {},
   "source": [
    "### 4.How do you check if a particular service is running?"
   ]
  },
  {
   "cell_type": "raw",
   "metadata": {},
   "source": [
    "$ service <servicename> status"
   ]
  },
  {
   "cell_type": "markdown",
   "metadata": {},
   "source": [
    "### 5.How do you check the status of all the services?"
   ]
  },
  {
   "cell_type": "raw",
   "metadata": {},
   "source": [
    "$ service --status-all"
   ]
  },
  {
   "cell_type": "markdown",
   "metadata": {},
   "source": [
    "### 6.How do you start and stop a service?"
   ]
  },
  {
   "cell_type": "raw",
   "metadata": {},
   "source": [
    "To start:\n",
    "\n",
    "$ service <servicename> start\n",
    "\n",
    "To stop:\n",
    "\n",
    "$ service <servicename> start"
   ]
  },
  {
   "cell_type": "markdown",
   "metadata": {},
   "source": [
    "### 7.Explain the free command."
   ]
  },
  {
   "cell_type": "markdown",
   "metadata": {},
   "source": [
    "This command is used to display the free, used, swap memory available in the system. \n",
    "\n",
    "Typical free command output. The output is displayed in bytes.\n",
    "\n",
    "$ free"
   ]
  },
  {
   "cell_type": "markdown",
   "metadata": {},
   "source": [
    "### 8.Explain chmod command\n"
   ]
  },
  {
   "cell_type": "raw",
   "metadata": {},
   "source": [
    "The chmod command is used to change the access mode of a file.\n",
    "The name is an abbreviation of change mode.\n",
    "\n",
    "Syntax :\n",
    "\n",
    "chmod [reference][operator][mode] file... \n",
    "The references are used to distinguish the users to whom the permissions apply i.e. they are list of letters that specifies whom to give permissions. The references are represented by one or more of the following letters:\n",
    "\n",
    "Reference   Class     Description\n",
    "u          owner      file's owner\n",
    "\n",
    "g          group      users who are members of\n",
    "                      the file's group\n",
    "\n",
    "o          others     users who are neither the\n",
    "                      file's owner nor members of \n",
    "                      the file's group\n",
    "\n",
    "a          all       All three of the above, same as ugo\n",
    "The operator is used to specify how the modes of a file should be adjusted. The following operators are accepted:\n",
    "\n",
    "Operator  Description\n",
    "+         Adds the specified modes to the\n",
    "          specified classes\n",
    "\n",
    "-         Removes the specified modes from \n",
    "          the specified classes\n",
    "\n",
    "=         The modes specified are to be made\n",
    "          the exact modes for the specified \n",
    "          classes\n",
    "Note : Putting blank space(s) around operator would make the command fail.\n",
    "\n",
    "The modes indicate which permissions are to be granted or removed from the specified classes. There are three basic modes which correspond to the basic permissions:\n",
    "\n",
    "r       Permission to read the file.\n",
    "w       Permission to write (or delete) the file.\n",
    "x       Permission to execute the file, or, in\n",
    "        the case of a directory, search it."
   ]
  },
  {
   "cell_type": "markdown",
   "metadata": {},
   "source": [
    "### 9.Explain grep command"
   ]
  },
  {
   "cell_type": "raw",
   "metadata": {},
   "source": [
    "Grep stands for Global Regular Expression Print. The grep command is used to search for a text in a file by pattern matching based on regular expression.\n",
    "\n",
    "Syntax: grep [options] pattern [files]\n",
    "\n",
    "Example:\n",
    "\n",
    "$ grep -c \"linux\" interview.txt\n",
    "\n",
    "This command will print the count of the word “linux” in the “interview.txt” file."
   ]
  },
  {
   "cell_type": "markdown",
   "metadata": {},
   "source": [
    "### 10.What is the use of nano editor?"
   ]
  },
  {
   "cell_type": "raw",
   "metadata": {},
   "source": [
    "Nano is a user-friendly, simple and WYSIWYG(What You See Is What You Get) text editor, which improves the features and user-friendliness of UW Pico text editor. Unlike vim editor or any other command-line editor, it doesn’t have any mode. It has an easy GUI(Graphical User Interface) which allows users to interact directly with the text in spite of switching between the modes as in vim editor.\n",
    "\n",
    "Nano is generally by default available in many Linux distributions but in case, it is not installed you may install the same using the following commands.\n",
    "\n",
    "$sudo apt update\n",
    "\n",
    "Working with Nano Text Editor\n",
    "\n",
    "1. To create and open a new file.\n",
    "\n",
    "$nano new_filename\n",
    "\n",
    "The above command will open a new file with new_filename as shown in the output. In case the file already exists it will open the same and in case the file is not there in the current directory it will create a new one. At the bottom of the window, there is a list of shortcut keys for nano.\n",
    "\n",
    "2. To save a file\n",
    "\n",
    "press Ctrl+o\n",
    "It will ask you for the filename. In case, you want to save the changes to a new file or want to create a new file then change the name else keep the name same.\n",
    "\n",
    "3. To cut paste in a file. Ctrl+o is used to cut and Ctrl+u is used to paste the text.\n",
    "\n",
    "To cut and paste a whole line. Move to the line which you want to cut then press Ctrl+k. Now the line is moved to clipboard, To paste it, go to the position where you want to paste and then press Ctrl+u\n",
    "To cut and paste the selected text. Select the text which you want to cut then press Ctrl+k. Now the text is moved to clipboard. To paste it, go to the position where you want to paste and then press Ctrl+u.\n",
    "\n",
    "4. To search a word in a file. Ctrl+w is used.\n",
    "\n",
    "Press Ctrl+w\n",
    "It will ask for a word to search for.\n",
    "Enter the word\n",
    "It will search for the word and will place the cursor in the first letter of the first occurrence of the word.\n",
    "\n",
    "5. To enable spell check in nano. First, install the spell check package.\n",
    "\n",
    "$sudo apt install spell\n",
    "It will then ask for the password then enter the password. Then press y and then press enter.\n",
    "\n",
    "To enable spell check in nano\n",
    "\n",
    "To do spell check first press Ctrl+t\n",
    "Now it will ask you to replace the incorrect words\n",
    "Enter the word to replace with there\n",
    "As soon as you will press the enter key\n",
    "\n"
   ]
  },
  {
   "cell_type": "code",
   "execution_count": null,
   "metadata": {},
   "outputs": [],
   "source": []
  }
 ],
 "metadata": {
  "kernelspec": {
   "display_name": "Python 3",
   "language": "python",
   "name": "python3"
  },
  "language_info": {
   "codemirror_mode": {
    "name": "ipython",
    "version": 3
   },
   "file_extension": ".py",
   "mimetype": "text/x-python",
   "name": "python",
   "nbconvert_exporter": "python",
   "pygments_lexer": "ipython3",
   "version": "3.8.5"
  }
 },
 "nbformat": 4,
 "nbformat_minor": 4
}
