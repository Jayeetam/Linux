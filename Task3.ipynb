{
 "cells": [
  {
   "cell_type": "markdown",
   "metadata": {},
   "source": [
    "### 1.What is tar command?  Why is it used?"
   ]
  },
  {
   "cell_type": "markdown",
   "metadata": {},
   "source": [
    "The Linux ‘tar’ stands for tape archive, is used to create Archive and extract the Archive files.\n",
    "\n",
    "tar command in Linux is one of the important command which provides archiving functionality in Linux. We can use Linux tar command to create compressed or uncompressed Archive files and also maintain and modify them. \n",
    "\n",
    "##### Syntax: \n",
    "\n",
    "##### tar [options] [archive-file] [file or directory to be archived]\n",
    "\n",
    "##### Options: \n",
    "+ -c : Creates Archive \n",
    "+ -x : Extract the archive \n",
    "+ -f : creates archive with given filename \n",
    "+ -t : displays or lists files in archived file \n",
    "+ -u : archives and adds to an existing archive file \n",
    "+ -v : Displays Verbose Information \n",
    "+ -A : Concatenates the archive files \n",
    "+ -z : zip, tells tar command that creates tar file using gzip \n",
    "+ -j : filter archive tar file using tbzip \n",
    "+ -W : Verify a archive file \n",
    "+ -r : update or add file or directory in already existed .tar file "
   ]
  },
  {
   "cell_type": "markdown",
   "metadata": {},
   "source": [
    "### 2. Explain Regular Expressions and Grep"
   ]
  },
  {
   "cell_type": "markdown",
   "metadata": {},
   "source": [
    "A regular expression or regex is a pattern that matches a set of strings. A pattern consists of operators, constructs literal characters, and meta-characters, which have special meaning."
   ]
  },
  {
   "cell_type": "markdown",
   "metadata": {},
   "source": [
    "grep is one of the most useful and powerful commands in Linux for text processing. grep searches one or more input files for lines that match a regular expression and writes each matching line to standard output.\n",
    "\n"
   ]
  },
  {
   "cell_type": "markdown",
   "metadata": {},
   "source": [
    "### 3.What is the minimum number of disk partitions required to install Linux?\n"
   ]
  },
  {
   "cell_type": "markdown",
   "metadata": {},
   "source": [
    "We need an absolute minimum of one partition to install Linux."
   ]
  },
  {
   "cell_type": "markdown",
   "metadata": {},
   "source": [
    "### 4.How to copy a file in Linux?"
   ]
  },
  {
   "cell_type": "markdown",
   "metadata": {},
   "source": [
    "cp command is used for copying files and directories to another location in Linux. To copy a file, specify “cp” followed by the name of a file to copy. Then, state the location at which the new file should appear. The new file does not need to have the same name as the one you are copying.\n",
    "\n",
    "#### The basic format of the command is:\n",
    "\n",
    "#### cp [additional_option] source_file target_file\n",
    "\n",
    "#### Example:\n",
    "\n",
    "#### cp my_file.txt my_file2.txt"
   ]
  },
  {
   "cell_type": "markdown",
   "metadata": {},
   "source": [
    "### 5.How to terminate a running process in Linux?"
   ]
  },
  {
   "cell_type": "markdown",
   "metadata": {},
   "source": [
    "kill, killall, and pkill commands are used to terminate a process in Linux. killall is used to Kill a process by name.\n",
    "The main difference between these tools is that kill terminates processes based on Process ID number (PID), while the killall and pkill commands terminate running processes based on their names and other attributes."
   ]
  },
  {
   "cell_type": "markdown",
   "metadata": {},
   "source": [
    "### 6.How to rename a file in Linux?"
   ]
  },
  {
   "cell_type": "markdown",
   "metadata": {},
   "source": [
    "+ The mv command (short of move) is used to rename or move files from one location to another.\n",
    "+ The rename command is also used to rename multiple files."
   ]
  },
  {
   "cell_type": "markdown",
   "metadata": {},
   "source": [
    "### 7.How to write the output of a command to a file?"
   ]
  },
  {
   "cell_type": "markdown",
   "metadata": {},
   "source": [
    "A command can receive input from a file and send output to a file.\n",
    "\n",
    "##### Writing the output into the file\n",
    "##### The syntax is\n",
    "##### command > filename\n",
    "\n",
    "##### For example, send output of the ls command to file named foo.txt\n",
    "##### $ ls > foo.txt\n",
    "\n",
    "##### View foo.txt using the cat command:\n",
    "##### $ cat foo.txt\n",
    "\n",
    "Please note that when you type ‘ls > foo.txt’, shell redirects the output of the ls command to a file named foo.txt, replacing the existing contents of the file. In other words, the contents of the file will be overwritten.\n",
    "\n",
    "##### Appending the output or data to the file\n",
    "##### The syntax is\n",
    "##### command >> filename\n",
    "\n",
    "##### Verify it:\n",
    "##### cat /tmp/data.txt"
   ]
  },
  {
   "cell_type": "markdown",
   "metadata": {},
   "source": [
    "### 8.How to see the list of mounted devices on Linux?"
   ]
  },
  {
   "cell_type": "markdown",
   "metadata": {},
   "source": [
    "We can use mount, findmnt, and df commands to list mounted device any Linux distribution like Ubuntu or Centos.\n",
    "\n",
    "+ In Linux, mount command mounts a storage device or filesystem. We can use mount command to list mount points. When we run mount command without any options it will list mount points.\n",
    "+ We can use df command to list mount points.\n",
    "+ Using findmnt we can find mounted filesystems. This command comes with lots of options to list mount filesystems."
   ]
  },
  {
   "cell_type": "markdown",
   "metadata": {},
   "source": [
    "### 9.How to find where a file is stored in Linux?\n"
   ]
  },
  {
   "cell_type": "markdown",
   "metadata": {},
   "source": [
    "#### Finding Files by Name\n",
    "+ In order to find a file by name:\n",
    "\n",
    "##### find -name \"File1\" \n",
    "\n",
    "+ To search for files by type:\n",
    "\n",
    "##### find -type typequery\n",
    "\n",
    "##### Some examples of file types are:\n",
    "\n",
    "+ f: Regular file\n",
    "+ d: Directory\n",
    "+ l:  Symbolic link\n",
    "+ c: Character devices\n",
    "+ b: Block devices\n",
    "    \n",
    "+ We can find files based on access time (-atime), modified time (-mtime), and change time (-ctime) flags:\n",
    "\n",
    "##### Let’s find a file modified more than 5 days ago:\n",
    "\n",
    "##### find / -ctime +5\n",
    "\n",
    "##### Less than 1 day ago:\n",
    "\n",
    "##### find / -ctime -1\n",
    "\n",
    "##### More than 25 minutes ago:\n",
    "\n",
    "##### find / -mmin +25\n",
    "\n",
    "+ Finding Files by Size: \n",
    "\n",
    "Find can filter files based on their size. SImply use the -size flag with the following size conventions:\n",
    "\n",
    "+ c: Bytes\n",
    "+ k: Kilobytes\n",
    "+ M: Megabytes\n",
    "+ G: Gigabytes\n",
    "+ b: 512-byte blocks\n",
    "\n",
    "In order to find a file that is exactly 1GB in size, simply type in the phrase:\n",
    "\n",
    "##### find / -size 1G\n",
    "##### If it is greater than 1GB:\n",
    "\n",
    "##### find / -size +1G\n",
    "\n",
    "#### An alternative to the find command is the locate command. The locate command builds a database of files on the system, so searches tend to be faster.\n",
    "\n",
    "##### To locate files by name, type:\n",
    "\n",
    "##### locate filename"
   ]
  },
  {
   "cell_type": "markdown",
   "metadata": {},
   "source": [
    "### 10. How to find the difference between two configuration files?\n"
   ]
  },
  {
   "cell_type": "markdown",
   "metadata": {},
   "source": [
    "Comparing files and finding the differences between them is a widely used operation. This is specially useful when we have to compare complex code or configuration files.\n",
    "\n",
    "Instead of comparing manually (which has a high chance of human error), Linux gives you a built in and powerful utility called diff. It also saves time.\n",
    "\n",
    "##### The syntax for diff is shared below:\n",
    "\n",
    "##### diff [options] file1 file2\n",
    "##### Syntax for diff\n",
    "##### The diff command can show three characters based on the changes:\n",
    "\n",
    "##### CHARACTER and it's MEANING\n",
    "+ c\tCHANGE- A change needs to be done.\n",
    "+ d\tDELETE- Something should be deleted.\n",
    "+ a\tADD- Something needs to be added."
   ]
  },
  {
   "cell_type": "code",
   "execution_count": null,
   "metadata": {},
   "outputs": [],
   "source": []
  }
 ],
 "metadata": {
  "kernelspec": {
   "display_name": "Python 3",
   "language": "python",
   "name": "python3"
  },
  "language_info": {
   "codemirror_mode": {
    "name": "ipython",
    "version": 3
   },
   "file_extension": ".py",
   "mimetype": "text/x-python",
   "name": "python",
   "nbconvert_exporter": "python",
   "pygments_lexer": "ipython3",
   "version": "3.8.5"
  }
 },
 "nbformat": 4,
 "nbformat_minor": 4
}
