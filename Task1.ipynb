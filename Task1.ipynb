{
 "cells": [
  {
   "cell_type": "markdown",
   "metadata": {},
   "source": [
    "## 1. What is Linux? "
   ]
  },
  {
   "cell_type": "markdown",
   "metadata": {},
   "source": [
    "Linux is an open source operating system. An operating system is the software that directly manages a system’s hardware and resources, like CPU, memory, and storage. The OS sits between applications and hardware and makes the connections between all of our software and the physical resources that do the work."
   ]
  },
  {
   "cell_type": "markdown",
   "metadata": {},
   "source": [
    "## 2. What is the difference between Linux and Unix? "
   ]
  },
  {
   "cell_type": "markdown",
   "metadata": {},
   "source": [
    "##  Definition\n",
    "\n",
    "Linux: It is an open-source operating system which is freely available to everyone.\n",
    "Unix: It is an operating system which can be only used by its copyrighters.\n",
    "\n",
    "##  Examples\t\n",
    "\n",
    "Linux: It has different distros like Ubuntu, Redhat, Fedora, etc\n",
    "Unix: IBM AIX, HP-UX and Sun Solaris.\n",
    "\n",
    "##  Users\t\n",
    "\n",
    "Linux: Nowadays, Linux is in great demand. Anyone can use Linux whether a home user, developer or a student.\n",
    "Unix: It was developed mainly for servers, workstations and mainframes.\n",
    "\n",
    "##  Usage\n",
    "\n",
    "Linux: Linux is used everywhere from servers, PC, smartphones, tablets to mainframes and supercomputers.\n",
    "Unix: It is used in servers, workstations and PCs.\n",
    "\n",
    "##  Cost\n",
    "\n",
    "Linux: Linux is freely distributed,downloaded, and distributed through magazines also. And priced distros of Linux are also cheaper than Windows.\n",
    "Unix: Unix copyright vendors decide different costs for their respective Unix Operating systems.\n",
    "\n",
    "##  Development\n",
    "\n",
    "Linux: As it is open source, it is developed by sharing and collaboration of codes by world-wide developers.\n",
    "Unix: Unix was developed by AT&T Labs, various commercial vendors and non-profit organizations.\n",
    "\n",
    "##  Manufacturer\t\n",
    "\n",
    "Linux: Linux kernel is developed by the community of developers from different parts of the world. Although the father of Linux, Linus Torvalds oversees things.\n",
    "\n",
    "Unix: Unix has three distributions IBM AIX, HP-UX and Sun Solaris. Apple also uses Unix to make OSX operating system.\n",
    "\n",
    "##  GUI\n",
    "Linux: Linux is command based but some distros provide GUI based Linux. Gnome and KDE are mostly used GUI.\n",
    "\n",
    "Unix: Initially it was command based OS, but later Common Desktop Environment was created. Most Unix distributions use Gnome.\n",
    "\n",
    "##  Interface\t\n",
    "\n",
    "Linux: The default interface is BASH (Bourne Again SHell). But some distros have developed their own interfaces.\n",
    "\n",
    "Unix: It originally used Bourne shell. But is also compatible with other GUIs.\n",
    "\n",
    "##  File system support\n",
    "\n",
    "Linux: Linux supports more file system than Unix.\n",
    "Unix: It also supports file system but lesser than Linux.\n",
    "\n",
    "##  Coding\n",
    "\n",
    "Linux: Linux is a Unix clone,behaves like Unix but doesn't contain its code.\n",
    "\n",
    "Unix: Unix contain a completely different coding developed by AT&T Labs.\n",
    "\n",
    "##  Operating system\n",
    "\n",
    "Linux: Linux is just the kernel.\n",
    "\n",
    "Unix: Unix is a complete package of Operating system.\n",
    "\n",
    "##  Security\n",
    "\n",
    "Linux: It provides higher security. Linux has about 60-100 viruses listed till date.\n",
    "\n",
    "Unix: Unix is also highly secured. It has about 85-120 viruses listed till date\n",
    "\n",
    "##  Error detection and solution\n",
    "\n",
    "Linux: As Linux is open-source,whenever a user post any kind of threat, developers from all over the world start working on it. And hence, it provides faster solution.\n",
    "\n",
    "Unix: In Unix, users have to wait for some time for the problem to be resolved."
   ]
  },
  {
   "cell_type": "markdown",
   "metadata": {},
   "source": [
    "## 3. What is Linux Kernel? Is it legal to edit Linux Kernel?"
   ]
  },
  {
   "cell_type": "markdown",
   "metadata": {},
   "source": [
    "The Linux kernel is central to the Linux computer operating system. The kernel is the core interface between a computer's hardware and its processes, making sure there is available memory for Linux applications to run, optimizing processors, and navigating system requirements across applications.\n",
    "\n",
    "The Linux kernel communicates between the hardware and applications via \"interrupts.\" When the hardware wants to interface with the application and broader system, an interrupt is issued across the processor and kernel to manage resources efficiently.\n",
    "\n",
    "The kernel, existing inside a hard OS shell, controls all primary functions of the respective hardware, independent of the device, including mobile, tablet, desktop or laptop, server, etc. The Linux kernel focuses on these critical functions:\n",
    "\n",
    "Memory management: Keep track of how much memory to leverage and how.\n",
    "Process management: Determine which processes can use the central processing unit (CPU) and how.\n",
    "Device drivers: Act as an intermediary between the hardware and applications/processes.\n",
    "System calls and security: Receive requests for service from the application processes\n",
    "\n",
    "+ Yes. We can edit Linux Kernel because it is released under General Public License (GPL) and anyone can edit it. It comes under the category of free and open source software."
   ]
  },
  {
   "cell_type": "markdown",
   "metadata": {},
   "source": [
    "## 4. What is LILO?"
   ]
  },
  {
   "cell_type": "markdown",
   "metadata": {},
   "source": [
    "LILO stands for Linux Loader that is used to load Linux into memory. It can boot operating systems from floppy disks, hard disks, and it does not depend on a specific file system. Lilo handles some tasks such as locate the kernel, identify other supporting programs, load memory and starts the kernel."
   ]
  },
  {
   "cell_type": "markdown",
   "metadata": {},
   "source": [
    "## 5. What are the basic components of Linux? "
   ]
  },
  {
   "cell_type": "markdown",
   "metadata": {},
   "source": [
    "Linux architecture primarily has these components:\n",
    "+ Hardware\n",
    "+ Kernel\n",
    "+ Shell\n",
    "+ Utilities\n",
    "\n",
    "#### Hardware: \n",
    "Peripheral devices such as RAM, HDD, CPU together constitute the Hardware layer for the LINUX operating system.\n",
    "\n",
    "#### Kernel:\n",
    "The Core part of the Linux OS is called Kernel. it is responsible for many activities of the LINUX operating system. It interacts directly with hardware, which provides low-level services like providing hardware details to the system. We have two types of kernels – Monolithic Kernel and MicroKernel.\n",
    "\n",
    "#### Shell:\n",
    "The shell is an interface between the user and the kernel; it hides the complexity of functions of the kernel from the user. It accepts commands from the user and performs the action.\n",
    "\n",
    "#### Utilities:\n",
    "Operating system functions are granted to the user from the Utilities. Individual and specialized functions are can be utilized from the System utilities."
   ]
  },
  {
   "cell_type": "markdown",
   "metadata": {},
   "source": [
    "## 6. Which are the Shells used in Linux?"
   ]
  },
  {
   "cell_type": "markdown",
   "metadata": {},
   "source": [
    "### 1. Bourne shell (sh)\n",
    "\n",
    "+ Complete path-name : /bin/sh and /sbin/sh\n",
    "+ Prompt for root user : #\n",
    "+ Prompt for non root user : $\n",
    "\n",
    "### 2. GNU Bourne-Again shell (bash)\n",
    "\n",
    "+ Complete path-name : /bin/bash\n",
    "+ Prompt for root user : bash-VersionNumber#\n",
    "+ Prompt for non root user : bash-VersionNumber$\n",
    "\n",
    "### 3. C shell (csh)\n",
    "\n",
    "+ Complete path-name :/bin/csh\n",
    "+ Prompt for root user : #\n",
    "+ Prompt for non root user : %\n",
    "\n",
    "### 4. Korn shell (ksh)\n",
    "\n",
    "+ Complete path-name :/bin/ksh\n",
    "+ Prompt for root user : #\n",
    "+ Prompt for non root user : $\n",
    "\n",
    "### 5. Z Shell (zsh)\n",
    "\n",
    "+ Complete path-name :/bin/zsh\n",
    "+ Prompt for root user : <hostname>#\n",
    "+ Prompt for non root user : <hostname>%\n"
   ]
  },
  {
   "cell_type": "markdown",
   "metadata": {},
   "source": [
    "## 7. What is Swap Space?"
   ]
  },
  {
   "cell_type": "markdown",
   "metadata": {},
   "source": [
    "A computer has a sufficient amount of physical memory but most of the time we need more so we swap some memory on disk. Swap space is a space on a hard disk that is a substitute for physical memory. It is used as virtual memory which contains process memory images. Whenever our computer runs short of physical memory it uses its virtual memory and stores information in memory on disk. Swap space helps the computer’s operating system in pretending that it has more RAM than it actually has. It is also called a swap file. This interchange of data between virtual memory and real memory is called swapping and space on disk as “swap space”. \n",
    "\n",
    "Virtual memory is a combination of RAM and disk space that running processes can use. Swap space is the portion of virtual memory that is on the hard disk, used when RAM is full. \n",
    "\n",
    "Operating systems such as Windows, Linux, etc systems provide a certain amount of swap space by default which can be changed by users according to their needs. If you don’t want to use virtual memory you can easily disable it all together but in case if you run out of memory then the kernel will kill some of the processes in order to create a sufficient amount of space in physical memory. So it totally depends upon the user whether he wants to use swap space or not."
   ]
  },
  {
   "cell_type": "markdown",
   "metadata": {},
   "source": [
    "## 8. What is the difference between BASH and DOS?"
   ]
  },
  {
   "cell_type": "markdown",
   "metadata": {},
   "source": [
    "The major difference between the BASH and DOS console lies in these 3 areas:\n",
    "\n",
    "+ BASH commands are case sensitive while DOS commands are not.\n",
    "+ In BASH, / character is a directory separator and \\ acts as an escape character while in  DOS, / serves as a command argument delimiter and \\ is the directory separator.\n",
    "+ DOS follows a convention in naming files, which is 8 character file name followed by a dot and 3 character for the extension. BASH follows no such convention."
   ]
  },
  {
   "cell_type": "markdown",
   "metadata": {},
   "source": [
    "## 9. What command would you use to check how much memory is being used by Linux?"
   ]
  },
  {
   "cell_type": "markdown",
   "metadata": {},
   "source": [
    "#### 1. cat Command to Show Linux Memory Information:\n",
    "\n",
    "Entering cat /proc/meminfo in your terminal opens the /proc/meminfo file.\n",
    "\n",
    "This is a virtual file that reports the amount of available and used memory. It contains real-time information about the system’s memory usage as well as the buffers and shared memory used by the kernel. The output might differ slightly based on the architecture and operating system in question.\n",
    "\n",
    "####  2. free command provides the following result:\n",
    "\n",
    "+ total: \tTotal installed memory\n",
    "+ used: \tMemory currently in use by running processes (used= total – free – buff/cache)\n",
    "+ free: \tUnused memory (free= total – used – buff/cache)\n",
    "+ shared: \tMemory shared by multiple processes\n",
    "+ buffers: \tMemory reserved by the OS to allocate as buffers when process need them\n",
    "+ cached: \tRecently used files stored in RAM\n",
    "+ buff/cache: \tBuffers + Cache\n",
    "+ available: \tEstimation of how much memory is available for starting new applications, without swapping.\n",
    "\n",
    "#### 3.  top Command to Check Memory Use\n",
    "\n",
    "The top command is useful to check memory and CPU usage per process. It displays information about:\n",
    "\n",
    "+ uptime\n",
    "+ average load\n",
    "+ tasks running\n",
    "+ number of users logged in\n",
    "+ number of CPUs/CPU utilization\n",
    "+ memory/swap system processes\n",
    "+ The data is continuously updated, which allows you to follow the processes in real-time."
   ]
  },
  {
   "cell_type": "markdown",
   "metadata": {},
   "source": [
    "## 10. Explain file permission in Linux."
   ]
  },
  {
   "cell_type": "markdown",
   "metadata": {},
   "source": [
    "All the three owners (user owner, group, others) in the Linux system have three types of permissions defined. Nine characters denotes the three types of permissions.\n",
    "\n",
    "#### Read (r) :\n",
    "The read permission allows you to open and read the content of a file. But you can't do any editing or modification in the file.\n",
    "#### Write (w) : \n",
    "The write permission allows you to edit, remove or rename a file. For instance, if a file is present in a directory, and write permission is set on the file but not on the directory, then you can edit the content of the file but can't remove, or rename it.\n",
    "#### Execute (x): \n",
    "In Unix type system, you can't run or execute a program unless execute permission is set.But in Windows, there is no such permission available.\n",
    "\n",
    "Permissions are listed below:\n",
    "\n",
    "### permission\t\n",
    "+ r (read)\n",
    "##### on a file\n",
    "+ read file content (cat)\n",
    "##### on a directory\n",
    "+ read directory content (ls)\n",
    "\n",
    "### permission\t\n",
    "+ w (write)\n",
    "##### on a file\n",
    "+ change file content (vi)\n",
    "##### on a directory\n",
    "+ create file in directory (touch)\n",
    "\n",
    "### permission\t\n",
    "+ x (execute)\n",
    "##### on a file\n",
    "+ execute the file\n",
    "##### on a directory\n",
    "+ enter the directory (cd)\n"
   ]
  },
  {
   "cell_type": "code",
   "execution_count": null,
   "metadata": {},
   "outputs": [],
   "source": []
  }
 ],
 "metadata": {
  "kernelspec": {
   "display_name": "Python 3",
   "language": "python",
   "name": "python3"
  },
  "language_info": {
   "codemirror_mode": {
    "name": "ipython",
    "version": 3
   },
   "file_extension": ".py",
   "mimetype": "text/x-python",
   "name": "python",
   "nbconvert_exporter": "python",
   "pygments_lexer": "ipython3",
   "version": "3.8.5"
  }
 },
 "nbformat": 4,
 "nbformat_minor": 4
}
