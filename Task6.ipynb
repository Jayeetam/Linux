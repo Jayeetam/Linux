{
 "cells": [
  {
   "cell_type": "markdown",
   "metadata": {},
   "source": [
    "### 1.Explain ls command\n"
   ]
  },
  {
   "cell_type": "raw",
   "metadata": {},
   "source": [
    "The ls command is used to list the files in a specified directory. The general syntax is:\n",
    "\n",
    "$ ls <options> <directory>\n",
    "\n",
    "For example, if you want to list all the files in the Example directory, then the command will be as follows:\n",
    "\n",
    "$ ls Example/\n",
    "\n",
    "There are different options that can be used with the ls command. These options give additional information about the file/ folder. For example:\n",
    "\n",
    "-l\t lists long format (shows the permissions of the file)\n",
    "-a\t lists all files including hidden files\n",
    "-i\t lists files with their inode number\n",
    "-s\t lists files with their size\n",
    "-S\t lists files with their size and sorts the list by file size\n",
    "-t\t sorts the listed files by time and date"
   ]
  },
  {
   "cell_type": "markdown",
   "metadata": {},
   "source": [
    "### 2.What are the various versions of ls command?"
   ]
  },
  {
   "cell_type": "raw",
   "metadata": {},
   "source": [
    "Command\tExplanation\n",
    "\n",
    "ls <path name>\t-By specifying the path after ls, the content in that path will be displayed\n",
    "\n",
    "ls –l\t-Using ‘l’ flag, lists all the contents along with its owner settings, permissions & time stamp (long format)\n",
    "\n",
    "ls –a\t-Using ‘a’ flag, lists all the hidden contents in the specified directory\n",
    "\n",
    "ls –author\t-Using ‘–author’ flag, lists the contents in the specified directory along with its owner\n",
    "\n",
    "ls –S\t-Using ‘a’ flag, sorts and lists all the contents in the specified directory by size\n",
    "\n",
    "ls *.html\t-Using ‘*’ flag, lists only the contents in the directory of a particular format\n",
    "\n",
    "ls -d */         -It is used to display only subdirectories.\n",
    "\n",
    "ls -g or ls -lG     -With this you can exclude column of group information and owner.\n",
    "\n",
    "ls -n\t-   It is used to print group ID and owner ID instead of their names.\n",
    "\n",
    "ls -lX\tIt will group the files with same extensions together in the list.\n",
    "\n",
    "ls -lt\tIt will sort the list by displaying recently modified filed at top.\n",
    "\n",
    "ls ~     It gives the contents of home directory.\n",
    "\n",
    "ls ../    It give the contents of parent directory.\n",
    "\n",
    "ls --version\tIt checks the version of ls command."
   ]
  },
  {
   "cell_type": "markdown",
   "metadata": {},
   "source": [
    "### 3.What is a Linux distro?"
   ]
  },
  {
   "cell_type": "markdown",
   "metadata": {},
   "source": [
    "Linux isn’t like Windows or Mac OS X. Microsoft combines all the bits of Windows internally to produce each new release of Windows and distributes it as a single package. If you want Windows, you’ll need to choose one of the versions Microsoft is offering.\n",
    "\n",
    "Linux works differently. The Linux operating system isn’t produced by a single organization. Different organizations and people work on different parts. There’s the Linux kernel (the core of the operating system), the GNU shell utilities (the terminal interface and many of the commands you use), the X server (which produces a graphical desktop), the desktop environment (which runs on the X server to provide a graphical desktop), and more. System services, graphical programs, terminal commands – many are developed independently from another. They’re all open-source software distributed in source code form.\n",
    "\n",
    "If you wanted to, you could grab the source code for the Linux kernel, GNU shell utilities, Xorg X server, and every other program on a Linux system, assembling it all yourself. However, compiling the software would take a lot of time – not to mention the work involved with making all the different programs work properly together.\n",
    "\n",
    "Linux distributions do the hard work for you, taking all the code from the open-source projects and compiling it for you, combining it into a single operating system you can boot up and install. They also make choices for you, such as choosing the default desktop environment, browser, and other software. Most distributions add their own finishing touches, such as themes and custom software – the Unity desktop environment Ubuntu provides, for example.\n",
    "\n",
    "When you want to install new software or update to new versions of software with important security updates, your Linux distribution provides them in precompiled, packaged form. These packages are fast and easy to install, saving you from doing the hard work yourself"
   ]
  },
  {
   "cell_type": "markdown",
   "metadata": {},
   "source": [
    "### 4. What are the Linux distro you know?"
   ]
  },
  {
   "cell_type": "markdown",
   "metadata": {},
   "source": [
    "Different Linux distributions are suited for different purposes. Which Linux distribution you should choose will depend on what you’re doing with it and your personal preferences.\n",
    "\n",
    "If you’re a desktop user, you’ll probably want something simple, like Ubuntu or Mint. Some people may prefer Fedora, openSUSE, or Mageia (based on Mandriva Linux).\n",
    "\n",
    "People looking for a more stable, well-tested system may want to go with Debian, CentOS (a free version of Red Hat Enterprise Linux), or even Ubuntu LTS.\n",
    "\n",
    "There’s no one right distribution for everyone, although everyone has a favorite. Linux distributions offer choice, which can be messy, but also very useful. Anyone can make their own distribution by assembling it from the source code themselves, or even taking an existing distribution and modifying it – that’s why there are so many Linux distributions."
   ]
  },
  {
   "cell_type": "markdown",
   "metadata": {},
   "source": [
    "### 5.What is the command to calculate the size of a folder?\n"
   ]
  },
  {
   "cell_type": "markdown",
   "metadata": {},
   "source": [
    "The du command displays the amount of file space used by the specified files or directories. If the specified path is a directory, du summarizes disk usage of each subdirectory in that directory. If no path is specified, du reports the disk usage of the current working directory .\n",
    "\n",
    "When invoked without any options, du displays the disk usage of the given directory and each of its subdirectories in bytes."
   ]
  },
  {
   "cell_type": "markdown",
   "metadata": {},
   "source": [
    "### 7.How can you find the status of a process?"
   ]
  },
  {
   "cell_type": "raw",
   "metadata": {},
   "source": [
    "We can get the status of one process by its pid (process ID) using the command ps:\n",
    "\n",
    "ps -q <pid> -o state --no-headers\n",
    "\n",
    "PROCESS STATE CODES\n",
    "    Here are the different values that the s, stat and state output \n",
    "    specifiers (header \"STAT\" or \"S\") will display to describe the\n",
    "    state of a process:\n",
    "\n",
    "       D    uninterruptible sleep (usually IO)\n",
    "       R    running or runnable (on run queue)\n",
    "       S    interruptible sleep (waiting for an event to complete)\n",
    "       T    stopped by job control signal\n",
    "       t    stopped by debugger during the tracing\n",
    "       W    paging (not valid since the 2.6.xx kernel)\n",
    "       X    dead (should never be seen)\n",
    "       Z    defunct (\"zombie\") process, terminated but not reaped by its parent"
   ]
  },
  {
   "cell_type": "markdown",
   "metadata": {},
   "source": [
    "### 7.How can you check the memory status?"
   ]
  },
  {
   "cell_type": "markdown",
   "metadata": {},
   "source": [
    "You can use any of the following commands:\n",
    "\n",
    "1. free -m:\n",
    "Typing free in our command terminal provides the following result:\n",
    "\n",
    "The data represents the used/available memory and the swap memory figures in kilobytes.\n",
    "\n",
    "* total\tTotal installed memory\n",
    "* used\tMemory currently in use by running processes (used= total – free – buff/cache)\n",
    "* free\tUnused memory (free= total – used – buff/cache)\n",
    "* shared\tMemory shared by multiple processes\n",
    "* buffers\tMemory reserved by the OS to allocate as buffers when process need them\n",
    "* cached\tRecently used files stored in RAM\n",
    "* buff/cache\tBuffers + Cache\n",
    "* available\tEstimation of how much memory is available for starting new applications, without swapping.\n",
    "\n",
    "2. vmstat:\n",
    "The vmstat command is a useful tool that reports virtual memory statistics.\n",
    "\n",
    "vmstat provides general information about processes, memory, paging, block IO, traps, and CPU activity.\n",
    "\n",
    "3. top:\n",
    "The top command is useful to check memory and CPU usage per process. It displays information about:\n",
    "\n",
    "uptime\n",
    "average load\n",
    "tasks running\n",
    "number of users logged in\n",
    "number of CPUs/CPU utilization\n",
    "memory/swap system processes\n",
    "\n",
    "4. htop:\n",
    "The information the htop command provides is similar to the top command. However, the real advantage to the htop command is its user-friendly environment and improved controls."
   ]
  },
  {
   "cell_type": "markdown",
   "metadata": {},
   "source": [
    "### 8.Explain how to enable root logging in Ubuntu?\n"
   ]
  },
  {
   "cell_type": "markdown",
   "metadata": {},
   "source": [
    "By default root user account is disabled for login in Ubuntu. Steps mentioned below will allow you to enable the root user and login as root on the OS.\n",
    "\n",
    "1. Login to your account and open Terminal\n",
    "2. sudo passwd root\n",
    "3. Type in the new password for UNIX\n",
    "4. sudo gedit /usr/share/lightdm/lightdm.conf.d/50-ubuntu.conf\n",
    "5. At the end of the file append greeter-show-manual-login = true\n",
    "\n",
    "That’s all, now we have to reboot the system and login to root account using manual login."
   ]
  },
  {
   "cell_type": "markdown",
   "metadata": {},
   "source": [
    "### 9.What is the use of the sudo command?"
   ]
  },
  {
   "cell_type": "raw",
   "metadata": {},
   "source": [
    "sudo (Super User DO) command in Linux is generally used as a prefix of some command that only superuser are allowed to run. If you prefix “sudo” with any command, it will run that command with elevated privileges or in other words allow a user with proper permissions to execute a command as another user, such as the superuser. This is the equivalent of “run as administrator” option in Windows. The option of sudo lets us have multiple administrators. \n",
    "\n",
    "Syntax: \n",
    "\n",
    "sudo -V | -h | -l | -v | -k | -K | -s | [ -H ] [-P ] [-S ] [ -b ] | \n",
    "[ -p prompt ] [ -c class|- ] [ -a auth_type ] [-r role ] [-t type ] \n",
    "[ -u username|#uid ] commandsudo -V | -h | -l | -L | -v | -k | -K | -s | [ -H ] [-P ] [-S ] [ -b ] | \n",
    "[ -p prompt ] [ -c class|- ] [ -a auth_type ] [-r role ] [-t type ] \n",
    "[ -u username|#uid ] command \n",
    " \n",
    "\n",
    "Options:\n",
    "\n",
    "1.-V: The -V (version) option causes sudo to print the version number and exit. \n",
    "2.-l: The -l (list) option will print out the commands allowed (and forbidden) the user on the current host.\n",
    "3.-h or –help: The -h (help) option causes sudo to print a usage message and exit.\n",
    "4. -v: If, given the -v (validate) option, sudo will update the user’s timestamp, prompting for the user’s password if necessary.\n",
    "5. -k: The -k (kill) option to sudo invalidates the user’s timestamp.So, the next time sudo is run a password will be required. \n",
    "6. -K: Similar to the -k option, the -K (sure kill) option is used to remove the user’s timestamp entirely. Likewise, this option does not require a password. \n",
    "7. -b: The -b (background) option tells sudo to run the given command in the background.\n",
    "8. -p:The -p (prompt) option allows you to override the default password prompt and use a custom one.\n"
   ]
  },
  {
   "cell_type": "markdown",
   "metadata": {},
   "source": [
    "### 10.Explain how to uninstall the libraries in Linux?\n"
   ]
  },
  {
   "cell_type": "markdown",
   "metadata": {},
   "source": [
    "To uninstall the libraries in Linux, we can use command\n",
    "+ sudo apt-get remove library_name"
   ]
  },
  {
   "cell_type": "code",
   "execution_count": null,
   "metadata": {},
   "outputs": [],
   "source": []
  }
 ],
 "metadata": {
  "kernelspec": {
   "display_name": "Python 3",
   "language": "python",
   "name": "python3"
  },
  "language_info": {
   "codemirror_mode": {
    "name": "ipython",
    "version": 3
   },
   "file_extension": ".py",
   "mimetype": "text/x-python",
   "name": "python",
   "nbconvert_exporter": "python",
   "pygments_lexer": "ipython3",
   "version": "3.8.5"
  }
 },
 "nbformat": 4,
 "nbformat_minor": 4
}
