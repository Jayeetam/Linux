{
 "cells": [
  {
   "cell_type": "markdown",
   "metadata": {},
   "source": [
    "### 1.What is a git stash list?"
   ]
  },
  {
   "cell_type": "markdown",
   "metadata": {},
   "source": [
    "Let’s say you're a developer and you want to switch branches to work on something else. The issue is you don’t want to make commits in uncompleted work, so you just want to get back to this point later. The solution here is the Git stash. \n",
    "\n",
    "Git stash takes your modified tracked files and saves it on a stack of unfinished changes that you can reapply at any time. To go back to the work you can use the stash pop.\n",
    "\n",
    "The Git stash list command will pull up a list of your repository's stashes. Git will display all of your stashes and a corresponding stash index. Now, if you wish to view the contents of a specific stash, you can run the Git stash show command followed by stash@ and the desired index."
   ]
  },
  {
   "cell_type": "markdown",
   "metadata": {},
   "source": [
    "### 2.How do you get a list of all the files that have been updated in a given commit?\n"
   ]
  },
  {
   "cell_type": "markdown",
   "metadata": {},
   "source": [
    "The command to get a list of files that has been changed in a particular commit is:\n",
    "\n",
    "git diff-tree –r {commit hash}\n",
    "\n",
    "-r flag allows the command to list individual files\n",
    "commit hash lists all the files that were changed or added in the commit."
   ]
  },
  {
   "cell_type": "markdown",
   "metadata": {},
   "source": [
    "### 3.What is a Git merge conflict?\n"
   ]
  },
  {
   "cell_type": "markdown",
   "metadata": {},
   "source": [
    "A Git merge conflict is an event that occurs when Git is unable to resolve the differences in code between the two commits automatically. \n",
    "\n",
    "Git is capable of automatically merging the changes only if the commits are on different lines or branches."
   ]
  },
  {
   "cell_type": "markdown",
   "metadata": {},
   "source": [
    "### 4.How do you distinguish between git fetch and git pull? How do you differentiate between Git Merge and Git Rebase?\n"
   ]
  },
  {
   "cell_type": "markdown",
   "metadata": {},
   "source": [
    "* Git Fetch\n",
    "\n",
    "The Git fetch command only downloads new data from a remote repository.\n",
    "It does not integrate any of these new data into your working files.\n",
    "Command - git fetch origin\n",
    "git fetch --all\n",
    "\n",
    "\n",
    "* Git pull\n",
    "\n",
    "Git pull updates the current HEAD branch with the latest changes from the remote server.\n",
    "Downloads new data and integrate it with the current working files.\n",
    "Tries to merge remote changes with your local ones.\n",
    "Command - git pull origin master"
   ]
  },
  {
   "cell_type": "markdown",
   "metadata": {},
   "source": [
    "##### Git merge is used to incorporate new commits into your feature branch.\n",
    "\n",
    "* Git merge creates an extra merge commit every time you need to incorporate changes.\n",
    "* It pollutes your feature branch history.\n",
    "\n",
    "##### As an alternative to merging, you can rebase the feature branch into master.\n",
    "\n",
    "* Git rebase Incorporates all the new commits in the master branch.\n",
    "* It rewrites the project history by creating brand new commits for each commit in the original branch"
   ]
  },
  {
   "cell_type": "markdown",
   "metadata": {},
   "source": [
    "### 5. What command uploads any GitHub repository to your computer using the git command?\n"
   ]
  },
  {
   "cell_type": "markdown",
   "metadata": {},
   "source": [
    "Follow these steps to upload your project to Github\n",
    "\n",
    "1) git init\n",
    "\n",
    "2) git add .\n",
    "\n",
    "3) git commit -m \"Add all my files\"\n",
    "\n",
    "4) git remote add origin https://github.com/yourusername/your-repo-name.git\n",
    "\n",
    "Upload of project from scratch require git pull origin master.\n",
    "\n",
    "5) git pull origin master\n",
    "\n",
    "6) git push origin master\n",
    "\n",
    "If any problem occurs in pushing use git push --force origin master"
   ]
  },
  {
   "cell_type": "markdown",
   "metadata": {},
   "source": [
    "### 6.How do you write a commit message using the command? How do you push code in GitHub?\n"
   ]
  },
  {
   "cell_type": "markdown",
   "metadata": {},
   "source": [
    "The quickest way to write a git commit is to use the command git commit -m \"Git commit message here\" . This is not recommended for commits, however, because it provides limited description of what was changed. Essentially, a git commit should explain what and why a change has been made."
   ]
  },
  {
   "cell_type": "markdown",
   "metadata": {},
   "source": [
    "Use git push to push commits made on your local branch to a remote repository.\n",
    "\n",
    "The git push command takes two arguments:\n",
    "\n",
    " A remote name, for example, origin\n",
    " A branch name, for example, main\n",
    "\n",
    "For example:\n",
    "\n",
    "git push  <REMOTENAME> <BRANCHNAME> \n",
    "As an example, you usually run git push origin main to push your local changes to your online repository."
   ]
  },
  {
   "cell_type": "markdown",
   "metadata": {},
   "source": [
    "### 7.How do you make a Git repository?"
   ]
  },
  {
   "cell_type": "markdown",
   "metadata": {},
   "source": [
    "We can store a variety of projects in GitHub repositories, including open source projects. With open source projects, we can share code to make better, more reliable software. We can use repositories to collaborate with others and also can track our work.\n",
    "1. In the upper-right corner of any page, use the + drop-down menu, and select New repository.\n",
    "2. Type a short, memorable name for your repository. For example, \"hello-world\".\n",
    "3. Optionally, add a description of your repository. For example, \"My first repository on GitHub.\"\n",
    "4. Choose a repository visibility. For more information, see \"About repositories.\"\n",
    "5. Select Initialize this repository with a README.\n",
    "6. Click Create repository.\n",
    "\n",
    "So now we have successfully created our first repository and initialized it with a README file."
   ]
  },
  {
   "cell_type": "markdown",
   "metadata": {},
   "source": [
    "### 8. What is Git, and how does it work?"
   ]
  },
  {
   "cell_type": "markdown",
   "metadata": {},
   "source": [
    "Git is a version control system for tracking changes in computer files and is used to help coordinate work among several people on a project while tracking progress over time. In other words, it’s a tool that facilitates source code management in software development.\n",
    "\n",
    "Git favors both programmers and non-technical users by keeping track of their project files. It enables multiple users to work together and handles large projects efficiently."
   ]
  },
  {
   "cell_type": "markdown",
   "metadata": {},
   "source": [
    "#### So how does Git work?\n",
    "\n",
    "Git is a distributed version control system that helps developers keep track of changes in their projects. Think of it as an entire timeline of your project from the beginning to the end.\n",
    "\n",
    "When you create a new project and initialize a Git repository using git init, it creates a hidden folder called .git which has a bunch of other files and folders inside. These files and folders contain all the content needed for Git to reference that particular directory.\n",
    "After initializing the repository, Git starts tracking all the files and folders inside that directory except those you explicitly tell it to not track in the .gitignore file. The .gitignore file is a hidden that lets you list all the files and folders you don't want Git to track. These files and folders would never be referenced by Git in your project.\n",
    "\n",
    "When you're working with git, your files are saved in one of Git's 3 states:\n",
    "\n",
    "The Modified State – This is when you add, remove, or change something in a file. Git has noticed the change but you have not formerly informed Git of the change yet.\n",
    "The Staged State – This is when you inform Git of the change and tell Git to take note of that change. Commonly known as the \"Staging Area\", files in this stage are called the Staged Files. You can modify a file even after staging it, which lets you see the file both in a modified state and a staged state. The modifications made after the staging will not appear after a commit has been made.\n",
    "The Committed State – This is when Git has saved your modified changes.\n",
    "You can use the command git status to see which states your files are currently in.\n",
    "\n",
    "When you commit some code, Git takes a snapshot of that particular version of your code which you can reference at a later stage.\n",
    "\n",
    "So you could say Git is a database of references to your project. That database is built using three types of objects:\n",
    "\n",
    "the commits which contain the metadata of every commit such as the message and author,\n",
    "the tree of changes which contain references to filenames, file contents, and sometimes other trees,\n",
    "and the blob which represents the actual data held within the files."
   ]
  },
  {
   "cell_type": "code",
   "execution_count": null,
   "metadata": {},
   "outputs": [],
   "source": []
  },
  {
   "cell_type": "code",
   "execution_count": null,
   "metadata": {},
   "outputs": [],
   "source": []
  }
 ],
 "metadata": {
  "kernelspec": {
   "display_name": "Python 3",
   "language": "python",
   "name": "python3"
  },
  "language_info": {
   "codemirror_mode": {
    "name": "ipython",
    "version": 3
   },
   "file_extension": ".py",
   "mimetype": "text/x-python",
   "name": "python",
   "nbconvert_exporter": "python",
   "pygments_lexer": "ipython3",
   "version": "3.8.5"
  }
 },
 "nbformat": 4,
 "nbformat_minor": 4
}
