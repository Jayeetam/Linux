{
 "cells": [
  {
   "cell_type": "markdown",
   "metadata": {},
   "source": [
    "### What does the command 'git status' do?"
   ]
  },
  {
   "cell_type": "markdown",
   "metadata": {},
   "source": [
    "git-status - Show the working tree status\n",
    "\n",
    "Basically the git status command is used to display the state of the repository and staging area. It allows us to see the tracked, untracked files and changes. This command will not show any commit records or information.\n",
    "\n",
    "Mostly, it is used to display the state between Git Add and Git commit command. We can check whether the changes and files are tracked or not."
   ]
  },
  {
   "cell_type": "markdown",
   "metadata": {},
   "source": [
    "### How to delete a Git local branch?"
   ]
  },
  {
   "cell_type": "raw",
   "metadata": {},
   "source": [
    "Git makes managing branches really easy - and deleting local branches is no exception:\n",
    "\n",
    "$ git branch -d <local-branch>\n",
    "In some cases, Git might refuse to delete your local branch: when it contains commits that haven't been merged into any other local branches or pushed to a remote repository.\n",
    "This is a very sensible rule that protects you from inadvertently losing commit data.\n",
    "\n",
    "If you want to delete such a branch nonetheless (e.g. because you've programmed yourself into a dead end and produced commits that aren't worth keeping) you can do so with the \"-D\" flag:\n",
    "\n",
    "$ git branch -D <local-branch>\n",
    "This will force deletion of the branch, even if it contains unmerged / unpushed commits. It goes without saying: please be careful with this command!"
   ]
  },
  {
   "cell_type": "markdown",
   "metadata": {},
   "source": [
    "### How can I add a project to Git that already exists?\n"
   ]
  },
  {
   "cell_type": "raw",
   "metadata": {},
   "source": [
    "To add a folder to existing repo, following steps can be followed.\n",
    "\n",
    "Clone your existing repo using following command: git clone https://github.com/company/our_repo.git\n",
    "Manually take your project folder to the desired location i.e. trunk/bin\n",
    "Now commit and then push in the repo using the commands: git commit -m \"message\" and git push origin master"
   ]
  },
  {
   "cell_type": "markdown",
   "metadata": {},
   "source": [
    "### What exactly is a Git fork? What are the distinctions between a fork, a branch, and a clone?"
   ]
  },
  {
   "cell_type": "markdown",
   "metadata": {},
   "source": [
    "A fork is a copy of a repository. Forking a repository allows you to freely experiment with changes without affecting the original project."
   ]
  },
  {
   "cell_type": "markdown",
   "metadata": {},
   "source": [
    "#### Fork\n",
    "\n",
    "The fork is the process when a copy of the repository is made. It's usually experimentation in the project without affecting the original project. They’re used to advise changes or take inspiration from someone else’s project."
   ]
  },
  {
   "cell_type": "markdown",
   "metadata": {},
   "source": [
    "#### Branch\n",
    "\n",
    "Git branches refer to individual projects within a git repository. If there are several branches in a repository, then each branch can have entirely different files and folders."
   ]
  },
  {
   "cell_type": "markdown",
   "metadata": {},
   "source": [
    "#### Clone \n",
    "\n",
    "Git clone refers to creating a clone or a copy of an existing git repository in a new directory. Cloning automatically creates a connection that points back to the original repository, which makes it very easy to interact with the central repository."
   ]
  },
  {
   "cell_type": "markdown",
   "metadata": {},
   "source": [
    "### What is the difference between HEAD, working tree, and index in GIT?"
   ]
  },
  {
   "cell_type": "markdown",
   "metadata": {},
   "source": [
    "Working trees: They are nothing but the files that you are currently working on.\n",
    "\n",
    "HEAD: HEAD is a pointer to the branch or commit that you last checked out, and which will be the parent of a new commit if you make it. For example, if you're on the master branch, then HEAD will be pointing to master, and when you commit, that new commit will be a descendant of the revision that your master pointed to, and master will be updated to point to the new commit.\n",
    "\n",
    "Index: The git \"index\" is where you place files you want commit to the git repository.The index is a staging area where the new commit is prepared. Essentially, the contents of the index are what will go into the new commit (though if you do git commit -a, this will automatically add all changes to files that Git knows about to the index before committing, so it will commit the current contents of your working tree). The command git add will add or update files from the working tree into your index.    "
   ]
  },
  {
   "cell_type": "markdown",
   "metadata": {},
   "source": [
    "### Which GIT command is used to change branches?"
   ]
  },
  {
   "cell_type": "markdown",
   "metadata": {},
   "source": [
    "#### checkout command\n",
    "Access the command line and use the checkout command to check out the branch you want to use:\n",
    "\n",
    "git checkout [branch_label]\n",
    "\n",
    "Replace [branch_label] with the actual name of the branch you want to access. For example:\n",
    "\n",
    "git checkout jayee\n",
    "\n",
    "You have successfully switched to the jayee branch and can start working on it."
   ]
  },
  {
   "cell_type": "markdown",
   "metadata": {},
   "source": [
    "#### switch command \n",
    "The principle command structure of switch command is same as with the checkout command. Access the command line and use the switch command to mount the branch you want to use:\n",
    "\n",
    "git switch [branch_label]\n",
    "\n",
    "Replace [branch_label] with the actual name of the branch you want to switch to.\n",
    "\n",
    "For example:\n",
    "\n",
    "git switch Devops"
   ]
  },
  {
   "cell_type": "markdown",
   "metadata": {},
   "source": [
    "### What is the difference between GitHub and Git?\n"
   ]
  },
  {
   "cell_type": "markdown",
   "metadata": {},
   "source": [
    "#### Git\n",
    "* Git is a software\n",
    "* Git can be installed locally on the system\n",
    "* Provides a desktop interface called git GUI\n",
    "* It does not support user management features\n",
    "\n",
    "#### Github\n",
    "* GitHub is a service\n",
    "* GitHub is hosted on the web\n",
    "* Provides a desktop interface called GitHub Desktop.\n",
    "* Provides built-in user management"
   ]
  },
  {
   "cell_type": "markdown",
   "metadata": {},
   "source": [
    "### What are some of the advantages of using the Variation Control System? Which programming language is used in Git?"
   ]
  },
  {
   "cell_type": "markdown",
   "metadata": {},
   "source": [
    "Git is an Open Source Distributed Version Control System. It is designed for\n",
    "\n",
    "* Speed\n",
    "* Simplicity\n",
    "* Fully Distributed\n",
    "* Excellent support for parallel development, support for hundreds of parallel branches.\n",
    "* Integrity"
   ]
  },
  {
   "cell_type": "markdown",
   "metadata": {},
   "source": [
    "#### Almost everything important is in C. Bash is used for many of the interfaces. Perl is used for a few tools still these days like git-send-mail, git-svn, git-cvsimport, git-archimport. Tcl/Tk is used for git-gui. One test script is written in python."
   ]
  },
  {
   "cell_type": "markdown",
   "metadata": {},
   "source": [
    "### List out some Git repository features."
   ]
  },
  {
   "cell_type": "markdown",
   "metadata": {},
   "source": [
    "Features of Git repository\n",
    "* Tracks history.\n",
    "* Free and open source.\n",
    "* Supports non-linear development.\n",
    "* Creates backups.\n",
    "* Scalable.\n",
    "* Supports collaboration.\n",
    "* Branching is easier.\n",
    "* Distributed development."
   ]
  },
  {
   "cell_type": "code",
   "execution_count": null,
   "metadata": {},
   "outputs": [],
   "source": []
  }
 ],
 "metadata": {
  "kernelspec": {
   "display_name": "Python 3",
   "language": "python",
   "name": "python3"
  },
  "language_info": {
   "codemirror_mode": {
    "name": "ipython",
    "version": 3
   },
   "file_extension": ".py",
   "mimetype": "text/x-python",
   "name": "python",
   "nbconvert_exporter": "python",
   "pygments_lexer": "ipython3",
   "version": "3.8.5"
  }
 },
 "nbformat": 4,
 "nbformat_minor": 4
}
