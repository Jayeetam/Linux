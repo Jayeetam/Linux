{
 "cells": [
  {
   "cell_type": "markdown",
   "metadata": {},
   "source": [
    "### What is git stockpile, and how does it work? How do you use it?\n"
   ]
  },
  {
   "cell_type": "markdown",
   "metadata": {},
   "source": [
    "stockpile a program to manage Dwarf Fortress installations using version control. The goal is to allow a user to install DF once, create a git repository in that installation, and then install mods and tilesets on various branches of the repository. When a user wants to switch to a different mod, they simply switch the branch, and then any launcher or script that they have in place to launch their copy of DF will now run on top of the other branch."
   ]
  },
  {
   "cell_type": "markdown",
   "metadata": {},
   "source": [
    "stockpile is a simple, durable Clojure queueing library. While this is believed to be reasonably solid, it is still relatively new, and the API or behavior may change without warning.\n",
    "\n",
    "Stockpile supports the durable storage and retrieval of data. After storage, stockpile returns an entry that can be used to access the data later, and when no longer needed, the data can be atomically discarded.\n",
    "\n",
    "Stockpile is explicitly designed to keep minimal state outside the filesystem. After opening a queue, you can call reduce to traverse the existing entries, but stockpile itself does not retain information about the entries. You must preserve any that you might want to access later.\n",
    "\n",
    "The ordering of any two entries can be compared (by id), but that ordering is not guaranteed to be exact, only some approximation of their relative insertion order.\n",
    "\n",
    "A metadata string can be provided for each item stored, but the length of that string may be limited by the underlying filesystem. (The string is currently encoded into the queue item's pathname so that it can be retrieved without having to open or read the file itself). The filesystem might also alter the metadata in other ways, for example if it does not preserve case. The path that's ultimately specified to the filesystem by the JVM may be affected by the locale, and on Linux with common filesystems, for example, often produces UTF-8 paths. See the queue store docstring for further information."
   ]
  },
  {
   "cell_type": "markdown",
   "metadata": {},
   "source": [
    "### Describe the various branching strategies.\n"
   ]
  },
  {
   "cell_type": "markdown",
   "metadata": {},
   "source": [
    "In Git, all branches are simply tags or pointers. Unlike other source control systems, Git doesn’t create copies of files to track changes. Instead, Git tracks all changes as a directed acyclic graph where each node is a set of changes made at one time. Any such node can be a branch, which allows changes to diverge from other parts of the tree. A merge simply modifies the Git object graph without any file-system impacts as in other source control systems. As such, branches in Git are very lightweight to create and manage.\n",
    "\n",
    "+ Common types of branches\n",
    "+ Trunk branch\n",
    "Every Git repository has a trunk (also referred to as main, mainline, or the master branch). When a Git repository is created, the trunk exists automatically as the implicit first branch. The use of a trunk and the timing of changes landing on it vary depending on the exact branching strategy being used. In trunk-based development, the trunk is the central branch to which all developers send their code changes.\n",
    "\n",
    "+ Development branch\n",
    "The development branch is a long-lived feature branch that holds changes made by developers before they’re ready to go to production. It parallels the trunk and is never removed. Some teams have the development branch correspond with a non-production environment. As such, commits to the development branch trigger test environment deployments. Development and trunk are frequently bidirectionally integrated, and it’s typical for a team member to bear the responsibility of integrating them.\n",
    "\n",
    "+ Feature branch\n",
    "A feature branch can be short- or long-lived depending on the specific branching flow. The branch often is used by a single developer for only their changes, but it is possible to share it with other developers as well. Again, the branching strategy will determine how exactly you define a “feature branch”. \n",
    "\n",
    "+ Release branch\n",
    "A release branch can be either short-lived or long-lived depending on the strategy. In either case, the release branch reflects a set of changes that are intended to go through the production release process.\n",
    "\n",
    "+ Hotfix branch\n",
    "A hotfix branch is a branch that’s used generally to hold changes related to emergency bug fixes. They can be short-lived or long-lived, though generally they exist as long-lived branches split off from a release branch. They tend to be more common in teams with explicitly versioned products, such as installed applications."
   ]
  },
  {
   "cell_type": "markdown",
   "metadata": {},
   "source": [
    "### How do you remove data from Git without being removed from your system?"
   ]
  },
  {
   "cell_type": "markdown",
   "metadata": {},
   "source": [
    "When --cached is given, the staged content has to match either the tip of the branch or the file on disk, allowing the file to be removed from just the index.\n",
    "\n",
    "So, for a single file:\n",
    "\n",
    "git rm --cached mylogfile.log\n",
    "\n",
    "and for a single directory:\n",
    "\n",
    "git rm --cached -r mydirectory\n",
    "\n",
    "To remove an entire folder from the repo (like Resharper files), do this:\n",
    "\n",
    "git rm -r --cached folderName"
   ]
  },
  {
   "cell_type": "markdown",
   "metadata": {},
   "source": [
    "### In Git, what does 'index' or 'hosting location' mean?\n"
   ]
  },
  {
   "cell_type": "markdown",
   "metadata": {},
   "source": [
    "The git \"index\" is where you place files you want commit to the git repository. The index is also known as cache, directory cache, current directory cache, staging area, staged files. Before you \"commit\" (checkin) files to the git repository, you need to first place the files in the git \"index\"."
   ]
  },
  {
   "cell_type": "markdown",
   "metadata": {},
   "source": [
    "Git allows you to host your own Git server. Instead of setting up your own server, you can also use a hosting service. The most popular Git hosting sites are GitHub and Bitbucket. Just like any other version control system, Git stores your committed files under a directory on the server like github/users/username/repositoryname . Under this directory there are the most updated files which are exact copy of your local clone which is called hosting location."
   ]
  },
  {
   "cell_type": "markdown",
   "metadata": {},
   "source": [
    "### What is the difference between 'git remote' and 'git duplicate'?"
   ]
  },
  {
   "cell_type": "markdown",
   "metadata": {},
   "source": [
    "GIT REMOTE add just creates an entry in your git configuring  that specifies a name for a particular URL. You must have an existing git report  to use this.\n",
    "\n",
    "GIT CLONE creates a new git repository by copying an existing one located at the URL you specify.\n",
    "\n",
    "##### The differences between git clone and git remote:\n",
    "\n",
    "##### git clone:\n",
    "\n",
    "Will physically download the files into your computer. It will take space from your computer. If the repo is 200Mb, then it will download that all and place it in the directory you cloned.\n",
    "\n",
    "##### git remote add:\n",
    "\n",
    "Won't take space! It's more like a pointer! It doesn't increase your disk consumption. It just gets a snapshot of what branches are available and their git commit history I believe. It doesn't contain the actual file/folders of your project.\n",
    "\n",
    "##### If you do:\n",
    "\n",
    "+ git remote add jayeeta  git://github.com/user/test.git\n",
    "\n",
    "then you haven't added anything to your computer. After you've added it in your remote branches then you're able to get a list of all branches on that remote by doing:\n",
    "\n",
    "+ git fetch --all\n",
    "##### upon fetching (or pulling), you download the files And then if you wanted to do get your colleague's feature22 branch into your local, you'd just do\n",
    "\n",
    "+ git checkout -b myLocalFeature22 jayeeta/feature22\n",
    "##### if you have cloned this repo then you would have to go into that local repository's directory and simply just checkout to your desired branch"
   ]
  },
  {
   "cell_type": "markdown",
   "metadata": {},
   "source": [
    "### What is Git Remote's purpose?"
   ]
  },
  {
   "cell_type": "markdown",
   "metadata": {},
   "source": [
    "The git remote command lets you create, view, and delete connections to other repositories. Remote connections are more like bookmarks rather than direct links into other repositories."
   ]
  },
  {
   "cell_type": "markdown",
   "metadata": {},
   "source": [
    "### How can I clear up a git reflog?\n"
   ]
  },
  {
   "cell_type": "markdown",
   "metadata": {},
   "source": [
    "You can (as detailed in this answer) permanently remove everything that is referenced only in the reflog.\n",
    "\n",
    "This will remove many objects you might want to keep: Stashes; Old history not in any current branches etc.\n",
    "\n",
    "#### To expire the reflog, and then prune all objects not in branches:\n",
    "\n",
    "+ git reflog expire --expire-unreachable=now --all\n",
    "+ git gc --prune=now\n",
    "+ git reflog expire --expire-unreachable=now --all removes all references of unreachable commits in reflog.\n",
    "\n",
    "+ git gc --prune=now removes the commits themselves.\n",
    "\n",
    "Only using git gc --prune=now will not work since those commits are still referenced in the reflog. Therefore, clearing the reflog is mandatory. Also note that if you use rerere it has additional references not cleared by these commands. See git help rerere for more details. In addition, any commits referenced by local or remote branches or tags will not be removed because those are considered as valuable data by git."
   ]
  },
  {
   "cell_type": "markdown",
   "metadata": {},
   "source": [
    "### How can you distinguish between the git pull and git bring commands?\n"
   ]
  },
  {
   "cell_type": "markdown",
   "metadata": {},
   "source": [
    "git fetch is the command that tells your local git to retrieve the latest meta-data info from the original (yet doesn't do any file transferring. It's more like just checking to see if there are any changes available). git pull on the other hand does that AND brings (copy) those changes from the remote repository."
   ]
  },
  {
   "cell_type": "markdown",
   "metadata": {},
   "source": [
    "git pull origin jayeeta\n",
    "The takeaway is to keep in mind that there generally are at least three copies of a project on your workstation.\n",
    "\n",
    "One copy is your own repository with your own commit history (the already saved one, so to say).\n",
    "The second copy is your working copy where you are editing and building (not committed yet to your repo).\n",
    "The third copy is your local “cached” copy of a remote repository (probably the original from where you cloned yours).\n",
    "You can use git fetch to know the changes done in the remote repo/branch since your last pull. This is useful to allow for checking before doing an actual pull, which could change files in your current branch and working copy (and potentially lose your changes, etc).\n",
    "\n",
    "+ git fetch    \n",
    "+ git diff ...origin"
   ]
  },
  {
   "cell_type": "code",
   "execution_count": null,
   "metadata": {},
   "outputs": [],
   "source": []
  }
 ],
 "metadata": {
  "kernelspec": {
   "display_name": "Python 3",
   "language": "python",
   "name": "python3"
  },
  "language_info": {
   "codemirror_mode": {
    "name": "ipython",
    "version": 3
   },
   "file_extension": ".py",
   "mimetype": "text/x-python",
   "name": "python",
   "nbconvert_exporter": "python",
   "pygments_lexer": "ipython3",
   "version": "3.8.5"
  }
 },
 "nbformat": 4,
 "nbformat_minor": 4
}
