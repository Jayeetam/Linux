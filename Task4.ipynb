{
 "cells": [
  {
   "cell_type": "markdown",
   "metadata": {},
   "source": [
    "### 1.Write a bash script to delete all the files in the current directory that contains the word “ineuron”."
   ]
  },
  {
   "cell_type": "raw",
   "metadata": {},
   "source": [
    "for i in *ineuron*; do rm $i; done"
   ]
  },
  {
   "cell_type": "markdown",
   "metadata": {},
   "source": [
    "### 2.How would you create a text file without opening it?"
   ]
  },
  {
   "cell_type": "raw",
   "metadata": {},
   "source": [
    "The touch command can be used to create a text file without opening it. The touch command will create an empty file. The syntax is as follows:\n",
    "\n",
    "+ $ touch <filename>\n",
    "\n",
    "Suppose you want to create a file named sample.txt, then the command would be:\n",
    "\n",
    "+ $ touch sample.txt"
   ]
  },
  {
   "cell_type": "markdown",
   "metadata": {},
   "source": [
    "### 3.How would you delete a directory in Linux?\n"
   ]
  },
  {
   "cell_type": "raw",
   "metadata": {},
   "source": [
    "There are two commands that can be used to delete a directory in Linux.\n",
    "\n",
    " rmdir\n",
    " $ rmdir <directory name>\n",
    "\n",
    " rm -rf \n",
    " $ rm -rf <directory name>\n",
    "\n",
    "Note: The command rm -rf should be used carefully because it will delete all the data without any warnings. "
   ]
  },
  {
   "cell_type": "markdown",
   "metadata": {},
   "source": [
    "### 4.How would you schedule a task in Linux?"
   ]
  },
  {
   "cell_type": "raw",
   "metadata": {},
   "source": [
    "There are two commands to schedule tasks in Linux: cron and at.\n",
    "\n",
    "The cron command is used to repeatedly schedule a task at a specific time. The tasks are stored in a cron file and then executed using the cron command. The cron command reads the string from this file and schedules the task. The syntax for the string to enter in the cron file is as follows:\n",
    "\n",
    " <minute> <hour> <day> <month> <weekday> <command>\n",
    "\n",
    "Suppose you want to run a command at 4 pm every Sunday, then the string would be:\n",
    "\n",
    " 0 16 * * 0 <command>\n",
    "The at command is used to schedule a task only once at the specified time.\n",
    "\n",
    "Suppose you want to shut down the system at 6 pm today, then the command for this would be:\n",
    "\n",
    " $ echo \"shutdown now\" | at -m 18:00"
   ]
  },
  {
   "cell_type": "markdown",
   "metadata": {},
   "source": [
    "### 5.Suppose you try to delete a file using the rm command and the deletion fails. What could be the possible reason?"
   ]
  },
  {
   "cell_type": "markdown",
   "metadata": {},
   "source": [
    "+ The path specified to the file or the file name mentioned might be wrong\n",
    "+ The user trying to delete the file might not have permissions to delete the file."
   ]
  },
  {
   "cell_type": "markdown",
   "metadata": {},
   "source": [
    "### 6.How do you look at the contents of a file?\n"
   ]
  },
  {
   "cell_type": "raw",
   "metadata": {},
   "source": [
    "The .z extension means that the file has been compressed. To look at the contents of the compressed file, you can use the zcat command. Example:\n",
    "\n",
    "$ zcat sample.z"
   ]
  },
  {
   "cell_type": "markdown",
   "metadata": {},
   "source": [
    "### 7.How to identify which shell you are using?\n"
   ]
  },
  {
   "cell_type": "raw",
   "metadata": {},
   "source": [
    "Open the terminal and run:\n",
    "\n",
    " $ echo $SHELL\n",
    "\n",
    "This will print the name of the Shell being used. "
   ]
  },
  {
   "cell_type": "markdown",
   "metadata": {},
   "source": [
    "### 8.How can you login to another system in your network from your system?\n"
   ]
  },
  {
   "cell_type": "raw",
   "metadata": {},
   "source": [
    "SSH can be used for this. The Syntax is as follows:\n",
    "\n",
    "ssh <username>@<ip address>\n",
    "\n",
    "Suppose you want to login into a system with IP address 192.168.5.5 as a user “mike”, then the command would be:\n",
    "\n",
    "$ ssh mike@192.168.5.5"
   ]
  },
  {
   "cell_type": "markdown",
   "metadata": {},
   "source": [
    "### 9.How would you open a file in read-only mode using the vim editor?\n"
   ]
  },
  {
   "cell_type": "raw",
   "metadata": {},
   "source": [
    "$ vim -R <filename>"
   ]
  },
  {
   "cell_type": "code",
   "execution_count": null,
   "metadata": {},
   "outputs": [],
   "source": []
  }
 ],
 "metadata": {
  "kernelspec": {
   "display_name": "Python 3",
   "language": "python",
   "name": "python3"
  },
  "language_info": {
   "codemirror_mode": {
    "name": "ipython",
    "version": 3
   },
   "file_extension": ".py",
   "mimetype": "text/x-python",
   "name": "python",
   "nbconvert_exporter": "python",
   "pygments_lexer": "ipython3",
   "version": "3.8.5"
  }
 },
 "nbformat": 4,
 "nbformat_minor": 4
}
