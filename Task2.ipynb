{
 "cells": [
  {
   "cell_type": "markdown",
   "metadata": {},
   "source": [
    "### What are inode and process id?\n"
   ]
  },
  {
   "cell_type": "markdown",
   "metadata": {},
   "source": [
    "An inode (short for \"index node\") is a data structure Linux uses to store information about a file. Each inode has a unique ID that identifies an individual file or other object in the Linux file system.\n",
    "\n",
    "##### Inodes contain the following information:\n",
    "\n",
    "##### 1. File type\n",
    "\n",
    "file, folder, executable program etc.\n",
    "##### 2. File size\n",
    "##### 3. Time stamp - \n",
    "\n",
    "creation, access, modification times\n",
    "##### 4. File permissions -\n",
    "\n",
    "read, write, execute\n",
    "##### 5. Access control list - \n",
    "\n",
    "permissions for special users/groups\n",
    "##### 6. File protection flags\n",
    "##### 7. File location -\n",
    "directory path where the file is stored\n",
    "##### 8. Link count - \n",
    "number of hardlinks to the inode\n",
    "##### 9. Additional file metadata\n",
    "##### 10. File pointers - \n",
    "addresses of the storage blocks that store the file contents\n",
    "\n",
    "Notably, an inode does not contain the filename or the actual data. When a file is created in the Linux file system, it is assigned an inode number and a filename. This linked pair allows the filename to be changed without affecting the file ID in the system. The same holds true when renaming directories, which are treated as files in Linux."
   ]
  },
  {
   "cell_type": "markdown",
   "metadata": {},
   "source": [
    "### Which are the Linux Directory Commands?"
   ]
  },
  {
   "cell_type": "markdown",
   "metadata": {},
   "source": [
    "##### pwd\t\n",
    "The pwd command stands for (print working directory). It displays the current working location or directory of the user. It displays the whole working path starting with /. It is a built-in command.\n",
    "##### ls\t\n",
    "The ls command is used to show the list of a folder. It will list out all the files in the directed folder.\n",
    "##### cd\t\n",
    "The cd command stands for (change directory). It is used to change to the directory you want to work from the present directory.\n",
    "##### mkdir\t\n",
    "With mkdir command you can create your own directory.\n",
    "##### rmdir\t\n",
    "The rmdir command is used to remove a directory from your system."
   ]
  },
  {
   "cell_type": "markdown",
   "metadata": {},
   "source": [
    "### What is Virtual Desktop?\n"
   ]
  },
  {
   "cell_type": "markdown",
   "metadata": {},
   "source": [
    "Virtual desktops are preconfigured images of operating systems and applications in which the desktop environment is separated from the physical device used to access it. Users can access their virtual desktops remotely over a network. Any endpoint device, such as a laptop, smartphone or tablet, can be used to access a virtual desktop. The virtual desktop provider installs client software on the endpoint device, and the user then interacts with that software on the device. \n",
    "\n",
    "A virtual desktop looks and feels like a physical workstation. The user experience is often even better than a physical workstation because powerful resources, such as storage and back-end databases, are readily available. Users may or may not be able to save changes or permanently install applications, depending on how the virtual desktop is configured. Users experience their desktop exactly the same way every time they log in, no matter which device they are logging into it from."
   ]
  },
  {
   "cell_type": "markdown",
   "metadata": {},
   "source": [
    "### Which are the different modes of vi editor?"
   ]
  },
  {
   "cell_type": "markdown",
   "metadata": {},
   "source": [
    "The vi editor has two modes:\n",
    "+ Command\n",
    "+ Insert\n",
    "\n",
    "When you first open a file with vi, you are in Command mode. Command mode means that you can use keyboard keys to navigate, delete, copy, paste, and do a number of other tasks—except entering text. To enter Insert mode, press i. In Insert mode, you can enter text, use the Enter key to go to a new line, use the arrow keys to navigate text, and use vi as a free-form text editor. To return to Command mode, press the Esc key once."
   ]
  },
  {
   "cell_type": "markdown",
   "metadata": {},
   "source": [
    "### What are daemons?"
   ]
  },
  {
   "cell_type": "markdown",
   "metadata": {},
   "source": [
    "A daemon is a program with a unique purpose. They are utility programs that run silently in the background to monitor and take care of certain subsystems to ensure that the operating system runs properly. A printer daemon monitors and takes care of printing services. A network daemon monitors and maintains network communications, and so on.\n",
    "Basically a daemon is a kind of program over UNIX-like OS that executes in the background unobtrusively, instead of upon the direct access of a user. It waits to be triggered by the appearance of a particular condition or event.\n",
    "\n",
    "Typically, UNIX-like systems execute numerous daemons, primarily for accommodating requests for services through other systems on the network, to hardware activity, and for responding to other programs as well.\n",
    "\n",
    "Examples of conditions or actions that could activate daemons into the activity can be a particular date or time, passage of a described time interval, receipt of a web request or email created from a specific communication line, and a file landing in a specific directory."
   ]
  },
  {
   "cell_type": "markdown",
   "metadata": {},
   "source": [
    "### What are the process states in Linux?\n"
   ]
  },
  {
   "cell_type": "markdown",
   "metadata": {},
   "source": [
    "In Linux, a process is an instance of executing a program or command. While these processes exist, they’ll be in one of the five possible states:\n",
    "\n",
    "+ Running or Runnable (R)\n",
    "\n",
    "When a new process is started, it’ll be placed into the running or runnable state. In the running state, the process takes up a CPU core to execute its code and logic.\n",
    "\n",
    "##### During process execution, it might come across a portion of its code where it needs to request external resources. Mainly, the request for these resources is IO-based such as to read a file from disk or make a network request. Since the process couldn’t proceed without the resources, it would stall and do nothing. In events like these, they should give up their CPU cycles to other tasks that are ready to run, and hence they go into a sleeping state.\n",
    "\n",
    "##### There are two different sleeping states: the uninterruptible sleeping state (D) and the interruptible sleeping state (S).\n",
    "\n",
    "+ Uninterruptible Sleep (D)\n",
    "\n",
    "The uninterruptible sleeping state will only wait for the resources to be available before it transit into a runnable state, and it doesn’t react to any signals.\n",
    "\n",
    "+ Interruptable Sleep (S)\n",
    "\n",
    "The interruptible sleeping state (s) will react to signals and the availability of resources.\n",
    "\n",
    "+ Stopped (T)\n",
    "\n",
    "From a running or runnable state, we could put a process into the stopped state (T) using the SIGSTOP or SIGTSTP signals. While in this state, we could bring back the process into a running or runnable state by sending the SIGCONT signal.\n",
    "\n",
    "+ Zombie (Z)\n",
    "\n",
    "When a process has completed its execution or is terminated, it’ll send the SIGCHLD signal to the parent process and go into the zombie state. The zombie process, also known as a defunct process, will remain in this state until the parent process clears it off from the process table."
   ]
  },
  {
   "cell_type": "markdown",
   "metadata": {},
   "source": [
    "### Explain grep command."
   ]
  },
  {
   "cell_type": "markdown",
   "metadata": {},
   "source": [
    "Grep is an acronym that stands for Global Regular Expression Print.\n",
    "\n",
    "Grep command is used to search for a string of characters in a specified file. The text search pattern is called a regular expression. When it finds a match, it prints the line with the result. The grep command is handy when searching through large log files."
   ]
  },
  {
   "cell_type": "markdown",
   "metadata": {},
   "source": [
    "### Explain Process Management System Calls in Linux\n"
   ]
  },
  {
   "cell_type": "markdown",
   "metadata": {},
   "source": [
    "System call provides an interface between user program and operating system. \n",
    "When the user wants to give an instruction to the OS then it will do it through system calls. Or a user program can access the kernel which is a part of the OS through system calls.\n",
    "\n",
    "It is a programmatic way in which a computer program requests a service from the kernel of the operating system.\n",
    "\n",
    "##### Types of system calls:\n",
    "\n",
    "+ System calls for Process management\n",
    "\n",
    "+ System calls for File management\n",
    "\n",
    "+ System calls for Directory management\n",
    "\n",
    "##### System calls for Process management\n",
    "A system is used to create a new process or a duplicate process called a fork.\n",
    "\n",
    "The duplicate process consists of all data in the file description and registers common. The original process is also called the parent process and the duplicate is called the child process.\n",
    "\n",
    "The fork call returns a value, which is zero in the child and equal to the child’s PID (Process Identifier) in the parent. The system calls like exit would request the services for terminating a process.\n",
    "\n",
    "Loading of programs or changing of the original image with duplicate needs execution of exec. Pid would help to distinguish between child and parent processes.\n",
    "\n",
    "##### Example\n",
    "##### Process management system calls in Linux.\n",
    "\n",
    "+ fork − For creating a duplicate process from the parent process.\n",
    "\n",
    "+ wait − Processes are supposed to wait for other processes to complete their work.\n",
    "\n",
    "+ exec − Loads the selected program into the memory.\n",
    "\n",
    "+ exit − Terminates the process."
   ]
  },
  {
   "cell_type": "markdown",
   "metadata": {},
   "source": [
    "### Explain the ‘ls’ command\n"
   ]
  },
  {
   "cell_type": "markdown",
   "metadata": {},
   "source": [
    "The ls command is used to lists files and directories within the file system and shows detailed information about them.\n",
    "\n",
    "Just like we navigate in our File explorer or Finder with a GUI, the ls command allows us to list all files or directories in the current directory by default, and further interact with them via the command line."
   ]
  },
  {
   "cell_type": "markdown",
   "metadata": {},
   "source": [
    "### Explain the redirection operator\n"
   ]
  },
  {
   "cell_type": "markdown",
   "metadata": {},
   "source": [
    "he work of any command is either taking input or gives an output or both. So, Linux has some command or special character to redirect these input and output functionalities. For example: suppose we want to run a command called “date” if we run it will print the output to the current terminal screen. But our requirement is different, we don’t want the output to be displayed on the terminal. We want the output to be saved in a file. This could be done very easily with output redirection. Redirection here simply means diverting the output or input. \n",
    "\n",
    "Similarly, if we have a command that needs input to be performed. Let take a command “head” this needs input to give output. So either we write input in the form of command directly or redirect input from any other place or file."
   ]
  },
  {
   "cell_type": "code",
   "execution_count": null,
   "metadata": {},
   "outputs": [],
   "source": []
  }
 ],
 "metadata": {
  "kernelspec": {
   "display_name": "Python 3",
   "language": "python",
   "name": "python3"
  },
  "language_info": {
   "codemirror_mode": {
    "name": "ipython",
    "version": 3
   },
   "file_extension": ".py",
   "mimetype": "text/x-python",
   "name": "python",
   "nbconvert_exporter": "python",
   "pygments_lexer": "ipython3",
   "version": "3.8.5"
  }
 },
 "nbformat": 4,
 "nbformat_minor": 4
}
